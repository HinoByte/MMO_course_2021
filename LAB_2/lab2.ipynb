{
 "cells": [
  {
   "cell_type": "markdown",
   "id": "2ad48107",
   "metadata": {},
   "source": [
    "# Цель лабораторной \n",
    "Изучение продвинутых способов предварительной обработки данных для дальнейшего формирования моделей."
   ]
  },
  {
   "cell_type": "markdown",
   "id": "22610b53",
   "metadata": {},
   "source": [
    "# Задание\n",
    "Требуется выполнить следующие действия:\n",
    "\n",
    "* Выбрать набор данных (датасет) содержащий категориальные и числовые признаки и пропуски в данных.\n",
    "* Для выбранного датасета решить следующие задачи:\n",
    "\n",
    "    1. устранение пропусков в данных;\n",
    "    2. кодирование категориальных признаков;\n",
    "    3. нормализацию числовых признаков.\n"
   ]
  },
  {
   "cell_type": "markdown",
   "id": "838773df",
   "metadata": {},
   "source": [
    "# Текст программы и экранные формы"
   ]
  },
  {
   "cell_type": "markdown",
   "id": "73a6c168",
   "metadata": {},
   "source": [
    "## Загрузка и предобработка данных"
   ]
  },
  {
   "cell_type": "markdown",
   "id": "4b3c9324",
   "metadata": {},
   "source": [
    "Воспользуемся датасетом с первой лабораторной работы для решения вышеперечисленных задач."
   ]
  },
  {
   "cell_type": "code",
   "execution_count": 1,
   "id": "b95ecb38",
   "metadata": {},
   "outputs": [],
   "source": [
    "import numpy as np\n",
    "import pandas as pd\n",
    "import seaborn as sns\n",
    "import matplotlib.pyplot as plt\n",
    "data_loaded = pd.read_csv('who_life_exp.csv', sep=\",\")"
   ]
  },
  {
   "cell_type": "markdown",
   "id": "4b6ce2e8",
   "metadata": {},
   "source": [
    "Выведем количество строк/столбцов и часть набора данных."
   ]
  },
  {
   "cell_type": "code",
   "execution_count": 2,
   "id": "c2f23698",
   "metadata": {},
   "outputs": [
    {
     "data": {
      "text/plain": [
       "(3111, 32)"
      ]
     },
     "execution_count": 2,
     "metadata": {},
     "output_type": "execute_result"
    }
   ],
   "source": [
    "data_loaded.shape"
   ]
  },
  {
   "cell_type": "code",
   "execution_count": 3,
   "id": "17d624c7",
   "metadata": {
    "scrolled": true
   },
   "outputs": [
    {
     "data": {
      "text/html": [
       "<div>\n",
       "<style scoped>\n",
       "    .dataframe tbody tr th:only-of-type {\n",
       "        vertical-align: middle;\n",
       "    }\n",
       "\n",
       "    .dataframe tbody tr th {\n",
       "        vertical-align: top;\n",
       "    }\n",
       "\n",
       "    .dataframe thead th {\n",
       "        text-align: right;\n",
       "    }\n",
       "</style>\n",
       "<table border=\"1\" class=\"dataframe\">\n",
       "  <thead>\n",
       "    <tr style=\"text-align: right;\">\n",
       "      <th></th>\n",
       "      <th>country</th>\n",
       "      <th>country_code</th>\n",
       "      <th>region</th>\n",
       "      <th>year</th>\n",
       "      <th>life_expect</th>\n",
       "      <th>life_exp60</th>\n",
       "      <th>adult_mortality</th>\n",
       "      <th>infant_mort</th>\n",
       "      <th>age1-4mort</th>\n",
       "      <th>alcohol</th>\n",
       "      <th>...</th>\n",
       "      <th>che_gdp</th>\n",
       "      <th>une_pop</th>\n",
       "      <th>une_infant</th>\n",
       "      <th>une_life</th>\n",
       "      <th>une_hiv</th>\n",
       "      <th>une_gni</th>\n",
       "      <th>une_poverty</th>\n",
       "      <th>une_edu_spend</th>\n",
       "      <th>une_literacy</th>\n",
       "      <th>une_school</th>\n",
       "    </tr>\n",
       "  </thead>\n",
       "  <tbody>\n",
       "    <tr>\n",
       "      <th>0</th>\n",
       "      <td>Angola</td>\n",
       "      <td>AGO</td>\n",
       "      <td>Africa</td>\n",
       "      <td>2000</td>\n",
       "      <td>47.33730</td>\n",
       "      <td>14.73400</td>\n",
       "      <td>383.5583</td>\n",
       "      <td>0.137985</td>\n",
       "      <td>0.025695</td>\n",
       "      <td>1.47439</td>\n",
       "      <td>...</td>\n",
       "      <td>1.90860</td>\n",
       "      <td>16395.473</td>\n",
       "      <td>122.2</td>\n",
       "      <td>46.522</td>\n",
       "      <td>1.0</td>\n",
       "      <td>2530.0</td>\n",
       "      <td>32.3</td>\n",
       "      <td>2.60753</td>\n",
       "      <td>NaN</td>\n",
       "      <td>NaN</td>\n",
       "    </tr>\n",
       "    <tr>\n",
       "      <th>1</th>\n",
       "      <td>Angola</td>\n",
       "      <td>AGO</td>\n",
       "      <td>Africa</td>\n",
       "      <td>2001</td>\n",
       "      <td>48.19789</td>\n",
       "      <td>14.95963</td>\n",
       "      <td>372.3876</td>\n",
       "      <td>0.133675</td>\n",
       "      <td>0.024500</td>\n",
       "      <td>1.94025</td>\n",
       "      <td>...</td>\n",
       "      <td>4.48352</td>\n",
       "      <td>16945.753</td>\n",
       "      <td>118.9</td>\n",
       "      <td>47.059</td>\n",
       "      <td>1.1</td>\n",
       "      <td>2630.0</td>\n",
       "      <td>NaN</td>\n",
       "      <td>NaN</td>\n",
       "      <td>67.40542</td>\n",
       "      <td>NaN</td>\n",
       "    </tr>\n",
       "    <tr>\n",
       "      <th>2</th>\n",
       "      <td>Angola</td>\n",
       "      <td>AGO</td>\n",
       "      <td>Africa</td>\n",
       "      <td>2002</td>\n",
       "      <td>49.42569</td>\n",
       "      <td>15.20010</td>\n",
       "      <td>354.5147</td>\n",
       "      <td>0.128320</td>\n",
       "      <td>0.023260</td>\n",
       "      <td>2.07512</td>\n",
       "      <td>...</td>\n",
       "      <td>3.32946</td>\n",
       "      <td>17519.417</td>\n",
       "      <td>115.1</td>\n",
       "      <td>47.702</td>\n",
       "      <td>1.2</td>\n",
       "      <td>3180.0</td>\n",
       "      <td>NaN</td>\n",
       "      <td>NaN</td>\n",
       "      <td>NaN</td>\n",
       "      <td>NaN</td>\n",
       "    </tr>\n",
       "    <tr>\n",
       "      <th>3</th>\n",
       "      <td>Angola</td>\n",
       "      <td>AGO</td>\n",
       "      <td>Africa</td>\n",
       "      <td>2003</td>\n",
       "      <td>50.50266</td>\n",
       "      <td>15.39144</td>\n",
       "      <td>343.2169</td>\n",
       "      <td>0.122040</td>\n",
       "      <td>0.021925</td>\n",
       "      <td>2.20275</td>\n",
       "      <td>...</td>\n",
       "      <td>3.54797</td>\n",
       "      <td>18121.479</td>\n",
       "      <td>110.8</td>\n",
       "      <td>48.440</td>\n",
       "      <td>1.3</td>\n",
       "      <td>3260.0</td>\n",
       "      <td>NaN</td>\n",
       "      <td>NaN</td>\n",
       "      <td>NaN</td>\n",
       "      <td>NaN</td>\n",
       "    </tr>\n",
       "    <tr>\n",
       "      <th>4</th>\n",
       "      <td>Angola</td>\n",
       "      <td>AGO</td>\n",
       "      <td>Africa</td>\n",
       "      <td>2004</td>\n",
       "      <td>51.52863</td>\n",
       "      <td>15.56860</td>\n",
       "      <td>333.8711</td>\n",
       "      <td>0.115700</td>\n",
       "      <td>0.020545</td>\n",
       "      <td>2.41274</td>\n",
       "      <td>...</td>\n",
       "      <td>3.96720</td>\n",
       "      <td>18758.145</td>\n",
       "      <td>106.2</td>\n",
       "      <td>49.263</td>\n",
       "      <td>1.3</td>\n",
       "      <td>3560.0</td>\n",
       "      <td>NaN</td>\n",
       "      <td>NaN</td>\n",
       "      <td>NaN</td>\n",
       "      <td>NaN</td>\n",
       "    </tr>\n",
       "  </tbody>\n",
       "</table>\n",
       "<p>5 rows × 32 columns</p>\n",
       "</div>"
      ],
      "text/plain": [
       "  country country_code  region  year  life_expect  life_exp60  \\\n",
       "0  Angola          AGO  Africa  2000     47.33730    14.73400   \n",
       "1  Angola          AGO  Africa  2001     48.19789    14.95963   \n",
       "2  Angola          AGO  Africa  2002     49.42569    15.20010   \n",
       "3  Angola          AGO  Africa  2003     50.50266    15.39144   \n",
       "4  Angola          AGO  Africa  2004     51.52863    15.56860   \n",
       "\n",
       "   adult_mortality  infant_mort  age1-4mort  alcohol  ...  che_gdp    une_pop  \\\n",
       "0         383.5583     0.137985    0.025695  1.47439  ...  1.90860  16395.473   \n",
       "1         372.3876     0.133675    0.024500  1.94025  ...  4.48352  16945.753   \n",
       "2         354.5147     0.128320    0.023260  2.07512  ...  3.32946  17519.417   \n",
       "3         343.2169     0.122040    0.021925  2.20275  ...  3.54797  18121.479   \n",
       "4         333.8711     0.115700    0.020545  2.41274  ...  3.96720  18758.145   \n",
       "\n",
       "   une_infant  une_life  une_hiv  une_gni  une_poverty  une_edu_spend  \\\n",
       "0       122.2    46.522      1.0   2530.0         32.3        2.60753   \n",
       "1       118.9    47.059      1.1   2630.0          NaN            NaN   \n",
       "2       115.1    47.702      1.2   3180.0          NaN            NaN   \n",
       "3       110.8    48.440      1.3   3260.0          NaN            NaN   \n",
       "4       106.2    49.263      1.3   3560.0          NaN            NaN   \n",
       "\n",
       "   une_literacy  une_school  \n",
       "0           NaN         NaN  \n",
       "1      67.40542         NaN  \n",
       "2           NaN         NaN  \n",
       "3           NaN         NaN  \n",
       "4           NaN         NaN  \n",
       "\n",
       "[5 rows x 32 columns]"
      ]
     },
     "execution_count": 3,
     "metadata": {},
     "output_type": "execute_result"
    }
   ],
   "source": [
    "data_loaded.head()"
   ]
  },
  {
   "cell_type": "code",
   "execution_count": 4,
   "id": "bc657221",
   "metadata": {},
   "outputs": [
    {
     "data": {
      "text/plain": [
       "[('country', 0.0),\n",
       " ('country_code', 0.0),\n",
       " ('region', 0.0),\n",
       " ('year', 0.0),\n",
       " ('life_expect', 0.0),\n",
       " ('life_exp60', 0.0),\n",
       " ('adult_mortality', 0.0),\n",
       " ('infant_mort', 0.0),\n",
       " ('age1-4mort', 0.0),\n",
       " ('alcohol', 1.6072002571520412),\n",
       " ('bmi', 1.092896174863388),\n",
       " ('age5-19thinness', 1.092896174863388),\n",
       " ('age5-19obesity', 1.092896174863388),\n",
       " ('hepatitis', 18.289938926390228),\n",
       " ('measles', 0.6107360977177756),\n",
       " ('polio', 0.6107360977177756),\n",
       " ('diphtheria', 0.6107360977177756),\n",
       " ('basic_water', 1.0286081645773062),\n",
       " ('doctors', 42.783670845387334),\n",
       " ('hospitals', 95.8212793314047),\n",
       " ('gni_capita', 21.92221150755384),\n",
       " ('gghe-d', 3.2144005143040824),\n",
       " ('che_gdp', 3.7608486017357765),\n",
       " ('une_pop', 1.1893281902925106),\n",
       " ('une_infant', 0.0),\n",
       " ('une_life', 0.0),\n",
       " ('une_hiv', 23.81870781099325),\n",
       " ('une_gni', 3.7608486017357765),\n",
       " ('une_poverty', 70.65252330440373),\n",
       " ('une_edu_spend', 41.3371906139505),\n",
       " ('une_literacy', 81.64577306332369),\n",
       " ('une_school', 74.12407585985214)]"
      ]
     },
     "execution_count": 4,
     "metadata": {},
     "output_type": "execute_result"
    }
   ],
   "source": [
    "# Вычислим процент пропущенных значений\n",
    "[(c, data_loaded[c].isnull().mean() * 100) for c in data_loaded]"
   ]
  },
  {
   "cell_type": "markdown",
   "id": "216f9cef",
   "metadata": {},
   "source": [
    "Данные представляют собой выгрузку с серверов «Глобальной обсерватории здравоохранения»(GHO) и ЮНЕСКО за шестнадь лет (2000 - 2016). Воспользуемся данными с серверов GHO, так как они наиболее полные и параметром une_gni из набора данных ЮНЕСКО."
   ]
  },
  {
   "cell_type": "code",
   "execution_count": 5,
   "id": "8af88690",
   "metadata": {},
   "outputs": [],
   "source": [
    "data = data_loaded[['country', 'country_code','region','year','life_expect','adult_mortality', 'infant_mort','alcohol','bmi','basic_water','doctors','hospitals','une_gni']]"
   ]
  },
  {
   "cell_type": "code",
   "execution_count": 6,
   "id": "dc1984c0",
   "metadata": {},
   "outputs": [
    {
     "data": {
      "text/html": [
       "<div>\n",
       "<style scoped>\n",
       "    .dataframe tbody tr th:only-of-type {\n",
       "        vertical-align: middle;\n",
       "    }\n",
       "\n",
       "    .dataframe tbody tr th {\n",
       "        vertical-align: top;\n",
       "    }\n",
       "\n",
       "    .dataframe thead th {\n",
       "        text-align: right;\n",
       "    }\n",
       "</style>\n",
       "<table border=\"1\" class=\"dataframe\">\n",
       "  <thead>\n",
       "    <tr style=\"text-align: right;\">\n",
       "      <th></th>\n",
       "      <th>country</th>\n",
       "      <th>country_code</th>\n",
       "      <th>region</th>\n",
       "      <th>year</th>\n",
       "      <th>life_expect</th>\n",
       "      <th>adult_mortality</th>\n",
       "      <th>infant_mort</th>\n",
       "      <th>alcohol</th>\n",
       "      <th>bmi</th>\n",
       "      <th>basic_water</th>\n",
       "      <th>doctors</th>\n",
       "      <th>hospitals</th>\n",
       "      <th>une_gni</th>\n",
       "    </tr>\n",
       "  </thead>\n",
       "  <tbody>\n",
       "    <tr>\n",
       "      <th>0</th>\n",
       "      <td>Angola</td>\n",
       "      <td>AGO</td>\n",
       "      <td>Africa</td>\n",
       "      <td>2000</td>\n",
       "      <td>47.33730</td>\n",
       "      <td>383.5583</td>\n",
       "      <td>0.137985</td>\n",
       "      <td>1.47439</td>\n",
       "      <td>21.7</td>\n",
       "      <td>41.14431</td>\n",
       "      <td>NaN</td>\n",
       "      <td>NaN</td>\n",
       "      <td>2530.0</td>\n",
       "    </tr>\n",
       "    <tr>\n",
       "      <th>1</th>\n",
       "      <td>Angola</td>\n",
       "      <td>AGO</td>\n",
       "      <td>Africa</td>\n",
       "      <td>2001</td>\n",
       "      <td>48.19789</td>\n",
       "      <td>372.3876</td>\n",
       "      <td>0.133675</td>\n",
       "      <td>1.94025</td>\n",
       "      <td>21.8</td>\n",
       "      <td>42.25467</td>\n",
       "      <td>NaN</td>\n",
       "      <td>NaN</td>\n",
       "      <td>2630.0</td>\n",
       "    </tr>\n",
       "    <tr>\n",
       "      <th>2</th>\n",
       "      <td>Angola</td>\n",
       "      <td>AGO</td>\n",
       "      <td>Africa</td>\n",
       "      <td>2002</td>\n",
       "      <td>49.42569</td>\n",
       "      <td>354.5147</td>\n",
       "      <td>0.128320</td>\n",
       "      <td>2.07512</td>\n",
       "      <td>21.9</td>\n",
       "      <td>43.37680</td>\n",
       "      <td>NaN</td>\n",
       "      <td>NaN</td>\n",
       "      <td>3180.0</td>\n",
       "    </tr>\n",
       "    <tr>\n",
       "      <th>3</th>\n",
       "      <td>Angola</td>\n",
       "      <td>AGO</td>\n",
       "      <td>Africa</td>\n",
       "      <td>2003</td>\n",
       "      <td>50.50266</td>\n",
       "      <td>343.2169</td>\n",
       "      <td>0.122040</td>\n",
       "      <td>2.20275</td>\n",
       "      <td>22.0</td>\n",
       "      <td>44.36387</td>\n",
       "      <td>NaN</td>\n",
       "      <td>NaN</td>\n",
       "      <td>3260.0</td>\n",
       "    </tr>\n",
       "    <tr>\n",
       "      <th>4</th>\n",
       "      <td>Angola</td>\n",
       "      <td>AGO</td>\n",
       "      <td>Africa</td>\n",
       "      <td>2004</td>\n",
       "      <td>51.52863</td>\n",
       "      <td>333.8711</td>\n",
       "      <td>0.115700</td>\n",
       "      <td>2.41274</td>\n",
       "      <td>22.2</td>\n",
       "      <td>45.35134</td>\n",
       "      <td>0.621</td>\n",
       "      <td>NaN</td>\n",
       "      <td>3560.0</td>\n",
       "    </tr>\n",
       "  </tbody>\n",
       "</table>\n",
       "</div>"
      ],
      "text/plain": [
       "  country country_code  region  year  life_expect  adult_mortality  \\\n",
       "0  Angola          AGO  Africa  2000     47.33730         383.5583   \n",
       "1  Angola          AGO  Africa  2001     48.19789         372.3876   \n",
       "2  Angola          AGO  Africa  2002     49.42569         354.5147   \n",
       "3  Angola          AGO  Africa  2003     50.50266         343.2169   \n",
       "4  Angola          AGO  Africa  2004     51.52863         333.8711   \n",
       "\n",
       "   infant_mort  alcohol   bmi  basic_water  doctors  hospitals  une_gni  \n",
       "0     0.137985  1.47439  21.7     41.14431      NaN        NaN   2530.0  \n",
       "1     0.133675  1.94025  21.8     42.25467      NaN        NaN   2630.0  \n",
       "2     0.128320  2.07512  21.9     43.37680      NaN        NaN   3180.0  \n",
       "3     0.122040  2.20275  22.0     44.36387      NaN        NaN   3260.0  \n",
       "4     0.115700  2.41274  22.2     45.35134    0.621        NaN   3560.0  "
      ]
     },
     "execution_count": 6,
     "metadata": {},
     "output_type": "execute_result"
    }
   ],
   "source": [
    "data.head()"
   ]
  },
  {
   "cell_type": "markdown",
   "id": "9546c576",
   "metadata": {},
   "source": [
    "## Устранение пропусков в данных"
   ]
  },
  {
   "cell_type": "code",
   "execution_count": 7,
   "id": "07395a31",
   "metadata": {},
   "outputs": [
    {
     "data": {
      "text/plain": [
       "[('country', 0.0),\n",
       " ('country_code', 0.0),\n",
       " ('region', 0.0),\n",
       " ('year', 0.0),\n",
       " ('life_expect', 0.0),\n",
       " ('adult_mortality', 0.0),\n",
       " ('infant_mort', 0.0),\n",
       " ('alcohol', 1.6072002571520412),\n",
       " ('bmi', 1.092896174863388),\n",
       " ('basic_water', 1.0286081645773062),\n",
       " ('doctors', 42.783670845387334),\n",
       " ('hospitals', 95.8212793314047),\n",
       " ('une_gni', 3.7608486017357765)]"
      ]
     },
     "execution_count": 7,
     "metadata": {},
     "output_type": "execute_result"
    }
   ],
   "source": [
    "# Вычислим процент пропущенных значений\n",
    "[(c, data[c].isnull().mean() * 100) for c in data]"
   ]
  },
  {
   "cell_type": "markdown",
   "id": "fb41f77b",
   "metadata": {},
   "source": [
    "Удалим колонки с преобладающими пропусками"
   ]
  },
  {
   "cell_type": "code",
   "execution_count": 8,
   "id": "6fd45110",
   "metadata": {},
   "outputs": [],
   "source": [
    "data = data.drop(['doctors','hospitals'],axis='columns')"
   ]
  },
  {
   "cell_type": "markdown",
   "id": "b13f076b",
   "metadata": {},
   "source": [
    "Заполним пропущенные данные для параметров alcohol, bmi, basic_water одним из показателей центра распределения — средним значением."
   ]
  },
  {
   "cell_type": "code",
   "execution_count": 9,
   "id": "1276c265",
   "metadata": {},
   "outputs": [],
   "source": [
    "data['alcohol'].fillna((data['alcohol'].mean()), inplace=True)"
   ]
  },
  {
   "cell_type": "code",
   "execution_count": 10,
   "id": "5e25eb00",
   "metadata": {},
   "outputs": [],
   "source": [
    "data['bmi'].fillna((data['alcohol'].mean()), inplace=True)"
   ]
  },
  {
   "cell_type": "code",
   "execution_count": 11,
   "id": "f072792f",
   "metadata": {},
   "outputs": [],
   "source": [
    "data['basic_water'].fillna((data['alcohol'].mean()), inplace=True)"
   ]
  },
  {
   "cell_type": "code",
   "execution_count": 12,
   "id": "264ea87a",
   "metadata": {},
   "outputs": [],
   "source": [
    "data['une_gni'].fillna((data['une_gni'].mean()), inplace=True)"
   ]
  },
  {
   "cell_type": "code",
   "execution_count": 13,
   "id": "0210643e",
   "metadata": {},
   "outputs": [
    {
     "data": {
      "text/plain": [
       "[('country', 0.0),\n",
       " ('country_code', 0.0),\n",
       " ('region', 0.0),\n",
       " ('year', 0.0),\n",
       " ('life_expect', 0.0),\n",
       " ('adult_mortality', 0.0),\n",
       " ('infant_mort', 0.0),\n",
       " ('alcohol', 0.0),\n",
       " ('bmi', 0.0),\n",
       " ('basic_water', 0.0),\n",
       " ('une_gni', 0.0)]"
      ]
     },
     "execution_count": 13,
     "metadata": {},
     "output_type": "execute_result"
    }
   ],
   "source": [
    "# Вычислим процент пропущенных значений\n",
    "[(c, data[c].isnull().mean() * 100) for c in data]"
   ]
  },
  {
   "cell_type": "code",
   "execution_count": 14,
   "id": "4ed95e50",
   "metadata": {},
   "outputs": [
    {
     "data": {
      "text/html": [
       "<div>\n",
       "<style scoped>\n",
       "    .dataframe tbody tr th:only-of-type {\n",
       "        vertical-align: middle;\n",
       "    }\n",
       "\n",
       "    .dataframe tbody tr th {\n",
       "        vertical-align: top;\n",
       "    }\n",
       "\n",
       "    .dataframe thead th {\n",
       "        text-align: right;\n",
       "    }\n",
       "</style>\n",
       "<table border=\"1\" class=\"dataframe\">\n",
       "  <thead>\n",
       "    <tr style=\"text-align: right;\">\n",
       "      <th></th>\n",
       "      <th>country</th>\n",
       "      <th>country_code</th>\n",
       "      <th>region</th>\n",
       "      <th>year</th>\n",
       "      <th>life_expect</th>\n",
       "      <th>adult_mortality</th>\n",
       "      <th>infant_mort</th>\n",
       "      <th>alcohol</th>\n",
       "      <th>bmi</th>\n",
       "      <th>basic_water</th>\n",
       "      <th>une_gni</th>\n",
       "    </tr>\n",
       "  </thead>\n",
       "  <tbody>\n",
       "    <tr>\n",
       "      <th>0</th>\n",
       "      <td>Angola</td>\n",
       "      <td>AGO</td>\n",
       "      <td>Africa</td>\n",
       "      <td>2000</td>\n",
       "      <td>47.33730</td>\n",
       "      <td>383.5583</td>\n",
       "      <td>0.137985</td>\n",
       "      <td>1.47439</td>\n",
       "      <td>21.7</td>\n",
       "      <td>41.14431</td>\n",
       "      <td>2530.0</td>\n",
       "    </tr>\n",
       "    <tr>\n",
       "      <th>1</th>\n",
       "      <td>Angola</td>\n",
       "      <td>AGO</td>\n",
       "      <td>Africa</td>\n",
       "      <td>2001</td>\n",
       "      <td>48.19789</td>\n",
       "      <td>372.3876</td>\n",
       "      <td>0.133675</td>\n",
       "      <td>1.94025</td>\n",
       "      <td>21.8</td>\n",
       "      <td>42.25467</td>\n",
       "      <td>2630.0</td>\n",
       "    </tr>\n",
       "    <tr>\n",
       "      <th>2</th>\n",
       "      <td>Angola</td>\n",
       "      <td>AGO</td>\n",
       "      <td>Africa</td>\n",
       "      <td>2002</td>\n",
       "      <td>49.42569</td>\n",
       "      <td>354.5147</td>\n",
       "      <td>0.128320</td>\n",
       "      <td>2.07512</td>\n",
       "      <td>21.9</td>\n",
       "      <td>43.37680</td>\n",
       "      <td>3180.0</td>\n",
       "    </tr>\n",
       "    <tr>\n",
       "      <th>3</th>\n",
       "      <td>Angola</td>\n",
       "      <td>AGO</td>\n",
       "      <td>Africa</td>\n",
       "      <td>2003</td>\n",
       "      <td>50.50266</td>\n",
       "      <td>343.2169</td>\n",
       "      <td>0.122040</td>\n",
       "      <td>2.20275</td>\n",
       "      <td>22.0</td>\n",
       "      <td>44.36387</td>\n",
       "      <td>3260.0</td>\n",
       "    </tr>\n",
       "    <tr>\n",
       "      <th>4</th>\n",
       "      <td>Angola</td>\n",
       "      <td>AGO</td>\n",
       "      <td>Africa</td>\n",
       "      <td>2004</td>\n",
       "      <td>51.52863</td>\n",
       "      <td>333.8711</td>\n",
       "      <td>0.115700</td>\n",
       "      <td>2.41274</td>\n",
       "      <td>22.2</td>\n",
       "      <td>45.35134</td>\n",
       "      <td>3560.0</td>\n",
       "    </tr>\n",
       "  </tbody>\n",
       "</table>\n",
       "</div>"
      ],
      "text/plain": [
       "  country country_code  region  year  life_expect  adult_mortality  \\\n",
       "0  Angola          AGO  Africa  2000     47.33730         383.5583   \n",
       "1  Angola          AGO  Africa  2001     48.19789         372.3876   \n",
       "2  Angola          AGO  Africa  2002     49.42569         354.5147   \n",
       "3  Angola          AGO  Africa  2003     50.50266         343.2169   \n",
       "4  Angola          AGO  Africa  2004     51.52863         333.8711   \n",
       "\n",
       "   infant_mort  alcohol   bmi  basic_water  une_gni  \n",
       "0     0.137985  1.47439  21.7     41.14431   2530.0  \n",
       "1     0.133675  1.94025  21.8     42.25467   2630.0  \n",
       "2     0.128320  2.07512  21.9     43.37680   3180.0  \n",
       "3     0.122040  2.20275  22.0     44.36387   3260.0  \n",
       "4     0.115700  2.41274  22.2     45.35134   3560.0  "
      ]
     },
     "execution_count": 14,
     "metadata": {},
     "output_type": "execute_result"
    }
   ],
   "source": [
    "data.head()"
   ]
  },
  {
   "cell_type": "code",
   "execution_count": 15,
   "id": "998081a8",
   "metadata": {},
   "outputs": [
    {
     "data": {
      "text/plain": [
       "(3111, 11)"
      ]
     },
     "execution_count": 15,
     "metadata": {},
     "output_type": "execute_result"
    }
   ],
   "source": [
    "data.shape"
   ]
  },
  {
   "cell_type": "markdown",
   "id": "0bdcda2b",
   "metadata": {},
   "source": [
    "## Кодирование категориальных признаков"
   ]
  },
  {
   "cell_type": "markdown",
   "id": "cb336b54",
   "metadata": {},
   "source": [
    "Выполним кодирование категорий целочисленными значениями для колонки \"Регион\""
   ]
  },
  {
   "cell_type": "code",
   "execution_count": 16,
   "id": "a9ba0b8c",
   "metadata": {},
   "outputs": [],
   "source": [
    "from sklearn.preprocessing import LabelEncoder"
   ]
  },
  {
   "cell_type": "code",
   "execution_count": 17,
   "id": "0d5f4a71",
   "metadata": {},
   "outputs": [],
   "source": [
    "le = LabelEncoder()\n",
    "cat_enc_le = le.fit_transform(data['region'])"
   ]
  },
  {
   "cell_type": "code",
   "execution_count": 18,
   "id": "62897842",
   "metadata": {},
   "outputs": [
    {
     "data": {
      "text/plain": [
       "array(['Africa', 'Americas', 'Eastern Mediterranean', 'Europe',\n",
       "       'South-East Asia', 'Western Pacific'], dtype=object)"
      ]
     },
     "execution_count": 18,
     "metadata": {},
     "output_type": "execute_result"
    }
   ],
   "source": [
    "data['region'].unique()"
   ]
  },
  {
   "cell_type": "code",
   "execution_count": 19,
   "id": "2279b718",
   "metadata": {},
   "outputs": [
    {
     "data": {
      "text/plain": [
       "array([0, 1, 2, 3, 4, 5])"
      ]
     },
     "execution_count": 19,
     "metadata": {},
     "output_type": "execute_result"
    }
   ],
   "source": [
    "np.unique(cat_enc_le)"
   ]
  },
  {
   "cell_type": "code",
   "execution_count": 20,
   "id": "8f9c23f3",
   "metadata": {},
   "outputs": [
    {
     "data": {
      "text/plain": [
       "array(['Africa', 'Americas', 'Eastern Mediterranean', 'Europe'],\n",
       "      dtype=object)"
      ]
     },
     "execution_count": 20,
     "metadata": {},
     "output_type": "execute_result"
    }
   ],
   "source": [
    "le.inverse_transform([0, 1, 2, 3])"
   ]
  },
  {
   "cell_type": "markdown",
   "id": "143fc5c2",
   "metadata": {},
   "source": [
    "В результате 0 регион соответствует 'Africa', 1 - 'Americas', 2 - 'Eastern Mediterranean' и 3  - 'Europe'."
   ]
  },
  {
   "cell_type": "markdown",
   "id": "aa37fc36",
   "metadata": {},
   "source": [
    "## Нормализация числовых признаков"
   ]
  },
  {
   "cell_type": "markdown",
   "id": "9707b8b6",
   "metadata": {},
   "source": [
    "Вывыдем гистаграммы плотности."
   ]
  },
  {
   "cell_type": "code",
   "execution_count": 21,
   "id": "e6bde2ff",
   "metadata": {},
   "outputs": [],
   "source": [
    "import scipy.stats as stats\n",
    "def diagnostic_plots(df, variable):\n",
    "    plt.figure(figsize=(15,6))\n",
    "    # гистограмма\n",
    "    plt.subplot(1, 2, 1)\n",
    "    df[variable].hist(bins=30)\n",
    "    ## Q-Q plot\n",
    "    plt.subplot(1, 2, 2)\n",
    "    stats.probplot(df[variable], dist=\"norm\", plot=plt)\n",
    "    plt.show()"
   ]
  },
  {
   "cell_type": "code",
   "execution_count": 22,
   "id": "99c2658a",
   "metadata": {},
   "outputs": [
    {
     "data": {
      "image/png": "[encoded data removed]",
      "text/plain": [
       "<Figure size 1440x1440 with 9 Axes>"
      ]
     },
     "metadata": {
      "needs_background": "light"
     },
     "output_type": "display_data"
    }
   ],
   "source": [
    "data.hist(figsize=(20,20))\n",
    "plt.show()"
   ]
  },
  {
   "cell_type": "markdown",
   "id": "b60f8c82",
   "metadata": {},
   "source": [
    "Отобразим график квантиль-квантиль для визуального оценки близости распределения к нормальному."
   ]
  },
  {
   "cell_type": "code",
   "execution_count": 23,
   "id": "cf12bb50",
   "metadata": {
    "scrolled": true
   },
   "outputs": [
    {
     "data": {
      "image/png": "[encoded data removed]",
      "text/plain": [
       "<Figure size 1080x432 with 2 Axes>"
      ]
     },
     "metadata": {
      "needs_background": "light"
     },
     "output_type": "display_data"
    }
   ],
   "source": [
    "diagnostic_plots(data, 'une_gni')"
   ]
  },
  {
   "cell_type": "markdown",
   "id": "340c9133",
   "metadata": {},
   "source": [
    "Выведем наиболее удачные методы нормализация числового признака 'une_gni'"
   ]
  },
  {
   "cell_type": "code",
   "execution_count": 33,
   "id": "23ca76d8",
   "metadata": {
    "scrolled": true
   },
   "outputs": [
    {
     "data": {
      "image/png": "[encoded data removed]",
      "text/plain": [
       "<Figure size 1080x432 with 2 Axes>"
      ]
     },
     "metadata": {
      "needs_background": "light"
     },
     "output_type": "display_data"
    }
   ],
   "source": [
    "#логарифмируем\n",
    "data['GrLivArea_log'] = np.log(data['une_gni'])\n",
    "diagnostic_plots(data, 'GrLivArea_log')"
   ]
  },
  {
   "cell_type": "code",
   "execution_count": 35,
   "id": "315f429d",
   "metadata": {},
   "outputs": [
    {
     "data": {
      "image/png": "[encoded data removed]",
      "text/plain": [
       "<Figure size 1080x432 with 2 Axes>"
      ]
     },
     "metadata": {
      "needs_background": "light"
     },
     "output_type": "display_data"
    }
   ],
   "source": [
    "# квадратный корень\n",
    "data['GrLivArea_sqr'] = data['une_gni']**(1/2) \n",
    "diagnostic_plots(data, 'GrLivArea_sqr')"
   ]
  },
  {
   "cell_type": "code",
   "execution_count": 38,
   "id": "ab058ccc",
   "metadata": {},
   "outputs": [
    {
     "data": {
      "image/png": "[encoded data removed]",
      "text/plain": [
       "<Figure size 1080x432 with 2 Axes>"
      ]
     },
     "metadata": {
      "needs_background": "light"
     },
     "output_type": "display_data"
    }
   ],
   "source": [
    "#возведение в степень(кубический корень)\n",
    "data['GrLivArea_exp3'] = data['une_gni']**(0.333)\n",
    "diagnostic_plots(data, 'GrLivArea_exp3')"
   ]
  },
  {
   "cell_type": "code",
   "execution_count": 39,
   "id": "b570f96a",
   "metadata": {},
   "outputs": [
    {
     "name": "stdout",
     "output_type": "stream",
     "text": [
      "Оптимальное значение λ = 0.07254153648769908\n"
     ]
    },
    {
     "data": {
      "image/png": "[encoded data removed]",
      "text/plain": [
       "<Figure size 1080x432 with 2 Axes>"
      ]
     },
     "metadata": {
      "needs_background": "light"
     },
     "output_type": "display_data"
    }
   ],
   "source": [
    "#преобразование Бокса-Кокса\n",
    "data['GrLivArea_boxcox'], param = stats.boxcox(data['une_gni']) \n",
    "print('Оптимальное значение λ = {}'.format(param))\n",
    "diagnostic_plots(data, 'GrLivArea_boxcox')"
   ]
  },
  {
   "cell_type": "markdown",
   "id": "197d753b",
   "metadata": {},
   "source": [
    "Для параметра une_gni(Валовый Национальный Доход на душу населения) наиболее удачные методы нормализации - логарифмирование и преобразование Бокса-Кокса.\n",
    "ВНД сильно раличается в разных странах, поэтому при логарифмировании эти различия уменьшаются. "
   ]
  }
 ],
 "metadata": {
  "authors": [
   {
    "name": "Пряхин Владимир Геннадьевич"
   }
  ],
  "title": "Обработка признаков (часть 1)",
  "lab_number": 2,
  "kernelspec": {
   "display_name": "Python 3",
   "language": "python",
   "name": "python3"
  },
  "language_info": {
   "codemirror_mode": {
    "name": "ipython",
    "version": 3
   },
   "file_extension": ".py",
   "mimetype": "text/x-python",
   "name": "python",
   "nbconvert_exporter": "python",
   "pygments_lexer": "ipython3",
   "version": "3.6.7"
  }
 },
 "nbformat": 4,
 "nbformat_minor": 5
}
